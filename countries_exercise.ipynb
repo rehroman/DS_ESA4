{
 "cells": [
  {
   "cell_type": "markdown",
   "id": "0809880a-e19c-42e0-b8ef-8664a2bd21cc",
   "metadata": {},
   "source": [
    "\n",
    "\n",
    "Load the countries.csv directly via URL import into your panda data frame!"
   ]
  },
  {
   "cell_type": "code",
   "execution_count": 1,
   "id": "cb522539-3cfe-4fd0-aae9-965e06054770",
   "metadata": {},
   "outputs": [],
   "source": [
    "import pandas as pd"
   ]
  },
  {
   "cell_type": "code",
   "execution_count": 2,
   "id": "631a17ed-6064-4326-87d7-112946e6b9b5",
   "metadata": {},
   "outputs": [
    {
     "data": {
      "text/html": [
       "<div>\n",
       "<style scoped>\n",
       "    .dataframe tbody tr th:only-of-type {\n",
       "        vertical-align: middle;\n",
       "    }\n",
       "\n",
       "    .dataframe tbody tr th {\n",
       "        vertical-align: top;\n",
       "    }\n",
       "\n",
       "    .dataframe thead th {\n",
       "        text-align: right;\n",
       "    }\n",
       "</style>\n",
       "<table border=\"1\" class=\"dataframe\">\n",
       "  <thead>\n",
       "    <tr style=\"text-align: right;\">\n",
       "      <th></th>\n",
       "      <th>Name</th>\n",
       "      <th>People</th>\n",
       "      <th>Area</th>\n",
       "      <th>BIP</th>\n",
       "      <th>Currency</th>\n",
       "    </tr>\n",
       "  </thead>\n",
       "  <tbody>\n",
       "    <tr>\n",
       "      <th>0</th>\n",
       "      <td>Germany</td>\n",
       "      <td>82521653</td>\n",
       "      <td>357385</td>\n",
       "      <td>3466</td>\n",
       "      <td>EUR</td>\n",
       "    </tr>\n",
       "    <tr>\n",
       "      <th>1</th>\n",
       "      <td>Japan</td>\n",
       "      <td>126045000</td>\n",
       "      <td>377835</td>\n",
       "      <td>4938</td>\n",
       "      <td>YEN</td>\n",
       "    </tr>\n",
       "    <tr>\n",
       "      <th>2</th>\n",
       "      <td>Canada</td>\n",
       "      <td>36503097</td>\n",
       "      <td>9984670</td>\n",
       "      <td>1529</td>\n",
       "      <td>CAD</td>\n",
       "    </tr>\n",
       "    <tr>\n",
       "      <th>3</th>\n",
       "      <td>Italy</td>\n",
       "      <td>60501718</td>\n",
       "      <td>301338</td>\n",
       "      <td>1850</td>\n",
       "      <td>EUR</td>\n",
       "    </tr>\n",
       "    <tr>\n",
       "      <th>4</th>\n",
       "      <td>Brazilia</td>\n",
       "      <td>208360000</td>\n",
       "      <td>8515770</td>\n",
       "      <td>1798</td>\n",
       "      <td>REAL</td>\n",
       "    </tr>\n",
       "  </tbody>\n",
       "</table>\n",
       "</div>"
      ],
      "text/plain": [
       "       Name     People     Area   BIP Currency\n",
       "0   Germany   82521653   357385  3466      EUR\n",
       "1     Japan  126045000   377835  4938      YEN\n",
       "2    Canada   36503097  9984670  1529      CAD\n",
       "3     Italy   60501718   301338  1850      EUR\n",
       "4  Brazilia  208360000  8515770  1798     REAL"
      ]
     },
     "execution_count": 2,
     "metadata": {},
     "output_type": "execute_result"
    }
   ],
   "source": [
    "df = pd.read_csv('https://raw.githubusercontent.com/edlich/eternalrepo/master/DS-WAHLFACH/countries.csv')\n",
    "df"
   ]
  },
  {
   "cell_type": "markdown",
   "id": "afe03815-a873-4741-8c49-032e1167bff4",
   "metadata": {},
   "source": [
    "\n",
    "\n",
    "Display some basic information as rows, columns and some basic statistical info."
   ]
  },
  {
   "cell_type": "code",
   "execution_count": 3,
   "id": "69d6343e-f34e-44fa-81d2-824b3ad29fd4",
   "metadata": {},
   "outputs": [
    {
     "data": {
      "text/plain": [
       "(5, 5)"
      ]
     },
     "execution_count": 3,
     "metadata": {},
     "output_type": "execute_result"
    }
   ],
   "source": [
    "df.shape"
   ]
  },
  {
   "cell_type": "code",
   "execution_count": 4,
   "id": "560beb30-20fa-4f79-88a9-58466a888986",
   "metadata": {},
   "outputs": [
    {
     "name": "stdout",
     "output_type": "stream",
     "text": [
      "             People          Area         BIP\n",
      "count  5.000000e+00  5.000000e+00     5.00000\n",
      "mean   1.027863e+08  3.907400e+06  2716.20000\n",
      "std    6.759970e+07  4.904957e+06  1457.86083\n",
      "min    3.650310e+07  3.013380e+05  1529.00000\n",
      "25%    6.050172e+07  3.573850e+05  1798.00000\n",
      "50%    8.252165e+07  3.778350e+05  1850.00000\n",
      "75%    1.260450e+08  8.515770e+06  3466.00000\n",
      "max    2.083600e+08  9.984670e+06  4938.00000\n"
     ]
    }
   ],
   "source": [
    "print(df.describe())"
   ]
  },
  {
   "cell_type": "markdown",
   "id": "06b9599a-41fb-49e8-83b5-b47b1c54d0df",
   "metadata": {},
   "source": [
    "\n",
    "\n",
    "Show the last 4 rows of the data frame."
   ]
  },
  {
   "cell_type": "code",
   "execution_count": 5,
   "id": "5bf4ce45-6cd7-4ff4-a425-2715279e534a",
   "metadata": {},
   "outputs": [
    {
     "data": {
      "text/html": [
       "<div>\n",
       "<style scoped>\n",
       "    .dataframe tbody tr th:only-of-type {\n",
       "        vertical-align: middle;\n",
       "    }\n",
       "\n",
       "    .dataframe tbody tr th {\n",
       "        vertical-align: top;\n",
       "    }\n",
       "\n",
       "    .dataframe thead th {\n",
       "        text-align: right;\n",
       "    }\n",
       "</style>\n",
       "<table border=\"1\" class=\"dataframe\">\n",
       "  <thead>\n",
       "    <tr style=\"text-align: right;\">\n",
       "      <th></th>\n",
       "      <th>Name</th>\n",
       "      <th>People</th>\n",
       "      <th>Area</th>\n",
       "      <th>BIP</th>\n",
       "      <th>Currency</th>\n",
       "    </tr>\n",
       "  </thead>\n",
       "  <tbody>\n",
       "    <tr>\n",
       "      <th>1</th>\n",
       "      <td>Japan</td>\n",
       "      <td>126045000</td>\n",
       "      <td>377835</td>\n",
       "      <td>4938</td>\n",
       "      <td>YEN</td>\n",
       "    </tr>\n",
       "    <tr>\n",
       "      <th>2</th>\n",
       "      <td>Canada</td>\n",
       "      <td>36503097</td>\n",
       "      <td>9984670</td>\n",
       "      <td>1529</td>\n",
       "      <td>CAD</td>\n",
       "    </tr>\n",
       "    <tr>\n",
       "      <th>3</th>\n",
       "      <td>Italy</td>\n",
       "      <td>60501718</td>\n",
       "      <td>301338</td>\n",
       "      <td>1850</td>\n",
       "      <td>EUR</td>\n",
       "    </tr>\n",
       "    <tr>\n",
       "      <th>4</th>\n",
       "      <td>Brazilia</td>\n",
       "      <td>208360000</td>\n",
       "      <td>8515770</td>\n",
       "      <td>1798</td>\n",
       "      <td>REAL</td>\n",
       "    </tr>\n",
       "  </tbody>\n",
       "</table>\n",
       "</div>"
      ],
      "text/plain": [
       "       Name     People     Area   BIP Currency\n",
       "1     Japan  126045000   377835  4938      YEN\n",
       "2    Canada   36503097  9984670  1529      CAD\n",
       "3     Italy   60501718   301338  1850      EUR\n",
       "4  Brazilia  208360000  8515770  1798     REAL"
      ]
     },
     "execution_count": 5,
     "metadata": {},
     "output_type": "execute_result"
    }
   ],
   "source": [
    "# df2 = df.drop(['0', '1'], axis=0) # das geht so wohl nicht\n",
    "df.tail(4)"
   ]
  },
  {
   "cell_type": "markdown",
   "id": "aa91f8b8-e08f-4c63-aeaa-5a428a55d0ca",
   "metadata": {},
   "source": [
    "\n",
    "\n",
    "Show all the row of countries who have the EURO"
   ]
  },
  {
   "cell_type": "code",
   "execution_count": 6,
   "id": "bc27633d-e72b-411b-89ff-7660e90b7baa",
   "metadata": {},
   "outputs": [
    {
     "data": {
      "text/html": [
       "<div>\n",
       "<style scoped>\n",
       "    .dataframe tbody tr th:only-of-type {\n",
       "        vertical-align: middle;\n",
       "    }\n",
       "\n",
       "    .dataframe tbody tr th {\n",
       "        vertical-align: top;\n",
       "    }\n",
       "\n",
       "    .dataframe thead th {\n",
       "        text-align: right;\n",
       "    }\n",
       "</style>\n",
       "<table border=\"1\" class=\"dataframe\">\n",
       "  <thead>\n",
       "    <tr style=\"text-align: right;\">\n",
       "      <th></th>\n",
       "      <th>Name</th>\n",
       "      <th>People</th>\n",
       "      <th>Area</th>\n",
       "      <th>BIP</th>\n",
       "      <th>Currency</th>\n",
       "    </tr>\n",
       "  </thead>\n",
       "  <tbody>\n",
       "    <tr>\n",
       "      <th>0</th>\n",
       "      <td>Germany</td>\n",
       "      <td>82521653</td>\n",
       "      <td>357385</td>\n",
       "      <td>3466</td>\n",
       "      <td>EUR</td>\n",
       "    </tr>\n",
       "    <tr>\n",
       "      <th>3</th>\n",
       "      <td>Italy</td>\n",
       "      <td>60501718</td>\n",
       "      <td>301338</td>\n",
       "      <td>1850</td>\n",
       "      <td>EUR</td>\n",
       "    </tr>\n",
       "  </tbody>\n",
       "</table>\n",
       "</div>"
      ],
      "text/plain": [
       "      Name    People    Area   BIP Currency\n",
       "0  Germany  82521653  357385  3466      EUR\n",
       "3    Italy  60501718  301338  1850      EUR"
      ]
     },
     "execution_count": 6,
     "metadata": {},
     "output_type": "execute_result"
    }
   ],
   "source": [
    "df2 = df[df.Currency == 'EUR']\n",
    "df2"
   ]
  },
  {
   "cell_type": "markdown",
   "id": "8365cf64-7dfb-4798-8a9a-e93eb7cede6a",
   "metadata": {},
   "source": [
    "\n",
    "\n",
    "Show only name and Currency in a new data frame"
   ]
  },
  {
   "cell_type": "code",
   "execution_count": 7,
   "id": "560d87c8-12ea-4754-b1e5-2d77c8751f06",
   "metadata": {},
   "outputs": [
    {
     "data": {
      "text/html": [
       "<div>\n",
       "<style scoped>\n",
       "    .dataframe tbody tr th:only-of-type {\n",
       "        vertical-align: middle;\n",
       "    }\n",
       "\n",
       "    .dataframe tbody tr th {\n",
       "        vertical-align: top;\n",
       "    }\n",
       "\n",
       "    .dataframe thead th {\n",
       "        text-align: right;\n",
       "    }\n",
       "</style>\n",
       "<table border=\"1\" class=\"dataframe\">\n",
       "  <thead>\n",
       "    <tr style=\"text-align: right;\">\n",
       "      <th></th>\n",
       "      <th>Name</th>\n",
       "      <th>Currency</th>\n",
       "    </tr>\n",
       "  </thead>\n",
       "  <tbody>\n",
       "    <tr>\n",
       "      <th>0</th>\n",
       "      <td>Germany</td>\n",
       "      <td>EUR</td>\n",
       "    </tr>\n",
       "    <tr>\n",
       "      <th>1</th>\n",
       "      <td>Japan</td>\n",
       "      <td>YEN</td>\n",
       "    </tr>\n",
       "    <tr>\n",
       "      <th>2</th>\n",
       "      <td>Canada</td>\n",
       "      <td>CAD</td>\n",
       "    </tr>\n",
       "    <tr>\n",
       "      <th>3</th>\n",
       "      <td>Italy</td>\n",
       "      <td>EUR</td>\n",
       "    </tr>\n",
       "    <tr>\n",
       "      <th>4</th>\n",
       "      <td>Brazilia</td>\n",
       "      <td>REAL</td>\n",
       "    </tr>\n",
       "  </tbody>\n",
       "</table>\n",
       "</div>"
      ],
      "text/plain": [
       "       Name Currency\n",
       "0   Germany      EUR\n",
       "1     Japan      YEN\n",
       "2    Canada      CAD\n",
       "3     Italy      EUR\n",
       "4  Brazilia     REAL"
      ]
     },
     "execution_count": 7,
     "metadata": {},
     "output_type": "execute_result"
    }
   ],
   "source": [
    "df3 = df[['Name', 'Currency']]\n",
    "df3"
   ]
  },
  {
   "cell_type": "markdown",
   "id": "8ebdf196-69fc-4c34-90ff-3c187956ff31",
   "metadata": {},
   "source": [
    "\n",
    "\n",
    "Show only the rows/countries that have more than 2000 BIP (it is in Milliarden USD Bruttoinlandsprodukt)"
   ]
  },
  {
   "cell_type": "code",
   "execution_count": 8,
   "id": "d50a9c25-042a-4a39-9e9b-b01cbfb9e5b4",
   "metadata": {},
   "outputs": [
    {
     "data": {
      "text/html": [
       "<div>\n",
       "<style scoped>\n",
       "    .dataframe tbody tr th:only-of-type {\n",
       "        vertical-align: middle;\n",
       "    }\n",
       "\n",
       "    .dataframe tbody tr th {\n",
       "        vertical-align: top;\n",
       "    }\n",
       "\n",
       "    .dataframe thead th {\n",
       "        text-align: right;\n",
       "    }\n",
       "</style>\n",
       "<table border=\"1\" class=\"dataframe\">\n",
       "  <thead>\n",
       "    <tr style=\"text-align: right;\">\n",
       "      <th></th>\n",
       "      <th>Name</th>\n",
       "      <th>People</th>\n",
       "      <th>Area</th>\n",
       "      <th>BIP</th>\n",
       "      <th>Currency</th>\n",
       "    </tr>\n",
       "  </thead>\n",
       "  <tbody>\n",
       "    <tr>\n",
       "      <th>0</th>\n",
       "      <td>Germany</td>\n",
       "      <td>82521653</td>\n",
       "      <td>357385</td>\n",
       "      <td>3466</td>\n",
       "      <td>EUR</td>\n",
       "    </tr>\n",
       "    <tr>\n",
       "      <th>1</th>\n",
       "      <td>Japan</td>\n",
       "      <td>126045000</td>\n",
       "      <td>377835</td>\n",
       "      <td>4938</td>\n",
       "      <td>YEN</td>\n",
       "    </tr>\n",
       "  </tbody>\n",
       "</table>\n",
       "</div>"
      ],
      "text/plain": [
       "      Name     People    Area   BIP Currency\n",
       "0  Germany   82521653  357385  3466      EUR\n",
       "1    Japan  126045000  377835  4938      YEN"
      ]
     },
     "execution_count": 8,
     "metadata": {},
     "output_type": "execute_result"
    }
   ],
   "source": [
    "df.query ('BIP > 2000')"
   ]
  },
  {
   "cell_type": "markdown",
   "id": "1a0f1f10-f278-42f9-92eb-28c5e6fee1f6",
   "metadata": {},
   "source": [
    "\n",
    "\n",
    "Select all countries where with inhabitants between 50 and 150 Mio"
   ]
  },
  {
   "cell_type": "code",
   "execution_count": 9,
   "id": "5ab35593-aa1c-42af-937a-a797ff25428e",
   "metadata": {},
   "outputs": [
    {
     "data": {
      "text/html": [
       "<div>\n",
       "<style scoped>\n",
       "    .dataframe tbody tr th:only-of-type {\n",
       "        vertical-align: middle;\n",
       "    }\n",
       "\n",
       "    .dataframe tbody tr th {\n",
       "        vertical-align: top;\n",
       "    }\n",
       "\n",
       "    .dataframe thead th {\n",
       "        text-align: right;\n",
       "    }\n",
       "</style>\n",
       "<table border=\"1\" class=\"dataframe\">\n",
       "  <thead>\n",
       "    <tr style=\"text-align: right;\">\n",
       "      <th></th>\n",
       "      <th>Name</th>\n",
       "      <th>People</th>\n",
       "      <th>Area</th>\n",
       "      <th>BIP</th>\n",
       "      <th>Currency</th>\n",
       "    </tr>\n",
       "  </thead>\n",
       "  <tbody>\n",
       "    <tr>\n",
       "      <th>0</th>\n",
       "      <td>Germany</td>\n",
       "      <td>82521653</td>\n",
       "      <td>357385</td>\n",
       "      <td>3466</td>\n",
       "      <td>EUR</td>\n",
       "    </tr>\n",
       "    <tr>\n",
       "      <th>1</th>\n",
       "      <td>Japan</td>\n",
       "      <td>126045000</td>\n",
       "      <td>377835</td>\n",
       "      <td>4938</td>\n",
       "      <td>YEN</td>\n",
       "    </tr>\n",
       "    <tr>\n",
       "      <th>3</th>\n",
       "      <td>Italy</td>\n",
       "      <td>60501718</td>\n",
       "      <td>301338</td>\n",
       "      <td>1850</td>\n",
       "      <td>EUR</td>\n",
       "    </tr>\n",
       "  </tbody>\n",
       "</table>\n",
       "</div>"
      ],
      "text/plain": [
       "      Name     People    Area   BIP Currency\n",
       "0  Germany   82521653  357385  3466      EUR\n",
       "1    Japan  126045000  377835  4938      YEN\n",
       "3    Italy   60501718  301338  1850      EUR"
      ]
     },
     "execution_count": 9,
     "metadata": {},
     "output_type": "execute_result"
    }
   ],
   "source": [
    "#df.[(df.People > 50000000) and (df.People < 150000000)]\n",
    "df.query ('People > 50000000 and  People < 150000000')"
   ]
  },
  {
   "cell_type": "markdown",
   "id": "a49a2da6-a059-4c95-93ec-331d9375d5aa",
   "metadata": {},
   "source": [
    "\n",
    "\n",
    "Change BIP to Bip"
   ]
  },
  {
   "cell_type": "code",
   "execution_count": 10,
   "id": "556b4bc2-b8fb-46ed-a9c0-20515e279fd7",
   "metadata": {},
   "outputs": [
    {
     "data": {
      "text/html": [
       "<div>\n",
       "<style scoped>\n",
       "    .dataframe tbody tr th:only-of-type {\n",
       "        vertical-align: middle;\n",
       "    }\n",
       "\n",
       "    .dataframe tbody tr th {\n",
       "        vertical-align: top;\n",
       "    }\n",
       "\n",
       "    .dataframe thead th {\n",
       "        text-align: right;\n",
       "    }\n",
       "</style>\n",
       "<table border=\"1\" class=\"dataframe\">\n",
       "  <thead>\n",
       "    <tr style=\"text-align: right;\">\n",
       "      <th></th>\n",
       "      <th>Name</th>\n",
       "      <th>People</th>\n",
       "      <th>Area</th>\n",
       "      <th>Bip</th>\n",
       "      <th>Currency</th>\n",
       "    </tr>\n",
       "  </thead>\n",
       "  <tbody>\n",
       "    <tr>\n",
       "      <th>0</th>\n",
       "      <td>Germany</td>\n",
       "      <td>82521653</td>\n",
       "      <td>357385</td>\n",
       "      <td>3466</td>\n",
       "      <td>EUR</td>\n",
       "    </tr>\n",
       "    <tr>\n",
       "      <th>1</th>\n",
       "      <td>Japan</td>\n",
       "      <td>126045000</td>\n",
       "      <td>377835</td>\n",
       "      <td>4938</td>\n",
       "      <td>YEN</td>\n",
       "    </tr>\n",
       "    <tr>\n",
       "      <th>2</th>\n",
       "      <td>Canada</td>\n",
       "      <td>36503097</td>\n",
       "      <td>9984670</td>\n",
       "      <td>1529</td>\n",
       "      <td>CAD</td>\n",
       "    </tr>\n",
       "    <tr>\n",
       "      <th>3</th>\n",
       "      <td>Italy</td>\n",
       "      <td>60501718</td>\n",
       "      <td>301338</td>\n",
       "      <td>1850</td>\n",
       "      <td>EUR</td>\n",
       "    </tr>\n",
       "    <tr>\n",
       "      <th>4</th>\n",
       "      <td>Brazilia</td>\n",
       "      <td>208360000</td>\n",
       "      <td>8515770</td>\n",
       "      <td>1798</td>\n",
       "      <td>REAL</td>\n",
       "    </tr>\n",
       "  </tbody>\n",
       "</table>\n",
       "</div>"
      ],
      "text/plain": [
       "       Name     People     Area   Bip Currency\n",
       "0   Germany   82521653   357385  3466      EUR\n",
       "1     Japan  126045000   377835  4938      YEN\n",
       "2    Canada   36503097  9984670  1529      CAD\n",
       "3     Italy   60501718   301338  1850      EUR\n",
       "4  Brazilia  208360000  8515770  1798     REAL"
      ]
     },
     "execution_count": 10,
     "metadata": {},
     "output_type": "execute_result"
    }
   ],
   "source": [
    "df = df.rename(columns = {'BIP':'Bip'})\n",
    "df"
   ]
  },
  {
   "cell_type": "markdown",
   "id": "d42a9c54-67ea-4e2d-8256-1204e0cc87ff",
   "metadata": {},
   "source": [
    "\n",
    "\n",
    "Calculate the Bip sum"
   ]
  },
  {
   "cell_type": "code",
   "execution_count": 11,
   "id": "734d4535-f496-4347-909b-f9060946de41",
   "metadata": {},
   "outputs": [
    {
     "data": {
      "text/plain": [
       "13581"
      ]
     },
     "execution_count": 11,
     "metadata": {},
     "output_type": "execute_result"
    }
   ],
   "source": [
    "df.Bip.sum()"
   ]
  },
  {
   "cell_type": "markdown",
   "id": "d6f96cb5-5e4e-47e8-adcf-c4ba2ef31ba7",
   "metadata": {},
   "source": [
    "\n",
    "\n",
    "Calculate the average people of all countries"
   ]
  },
  {
   "cell_type": "code",
   "execution_count": 12,
   "id": "054af611-f5e5-490c-a364-e8a5219197f4",
   "metadata": {},
   "outputs": [
    {
     "data": {
      "text/plain": [
       "102786293.6"
      ]
     },
     "execution_count": 12,
     "metadata": {},
     "output_type": "execute_result"
    }
   ],
   "source": [
    "df.People.mean()"
   ]
  },
  {
   "cell_type": "markdown",
   "id": "41af0f4c-10d5-41cc-802a-72ff7820420f",
   "metadata": {},
   "source": [
    "\n",
    "\n",
    "Sort by name alphabetically"
   ]
  },
  {
   "cell_type": "code",
   "execution_count": 13,
   "id": "28cb6406-7192-45ed-b6d2-f5a8dd643130",
   "metadata": {},
   "outputs": [
    {
     "data": {
      "text/html": [
       "<div>\n",
       "<style scoped>\n",
       "    .dataframe tbody tr th:only-of-type {\n",
       "        vertical-align: middle;\n",
       "    }\n",
       "\n",
       "    .dataframe tbody tr th {\n",
       "        vertical-align: top;\n",
       "    }\n",
       "\n",
       "    .dataframe thead th {\n",
       "        text-align: right;\n",
       "    }\n",
       "</style>\n",
       "<table border=\"1\" class=\"dataframe\">\n",
       "  <thead>\n",
       "    <tr style=\"text-align: right;\">\n",
       "      <th></th>\n",
       "      <th>Name</th>\n",
       "      <th>People</th>\n",
       "      <th>Area</th>\n",
       "      <th>Bip</th>\n",
       "      <th>Currency</th>\n",
       "    </tr>\n",
       "  </thead>\n",
       "  <tbody>\n",
       "    <tr>\n",
       "      <th>4</th>\n",
       "      <td>Brazilia</td>\n",
       "      <td>208360000</td>\n",
       "      <td>8515770</td>\n",
       "      <td>1798</td>\n",
       "      <td>REAL</td>\n",
       "    </tr>\n",
       "    <tr>\n",
       "      <th>2</th>\n",
       "      <td>Canada</td>\n",
       "      <td>36503097</td>\n",
       "      <td>9984670</td>\n",
       "      <td>1529</td>\n",
       "      <td>CAD</td>\n",
       "    </tr>\n",
       "    <tr>\n",
       "      <th>0</th>\n",
       "      <td>Germany</td>\n",
       "      <td>82521653</td>\n",
       "      <td>357385</td>\n",
       "      <td>3466</td>\n",
       "      <td>EUR</td>\n",
       "    </tr>\n",
       "    <tr>\n",
       "      <th>3</th>\n",
       "      <td>Italy</td>\n",
       "      <td>60501718</td>\n",
       "      <td>301338</td>\n",
       "      <td>1850</td>\n",
       "      <td>EUR</td>\n",
       "    </tr>\n",
       "    <tr>\n",
       "      <th>1</th>\n",
       "      <td>Japan</td>\n",
       "      <td>126045000</td>\n",
       "      <td>377835</td>\n",
       "      <td>4938</td>\n",
       "      <td>YEN</td>\n",
       "    </tr>\n",
       "  </tbody>\n",
       "</table>\n",
       "</div>"
      ],
      "text/plain": [
       "       Name     People     Area   Bip Currency\n",
       "4  Brazilia  208360000  8515770  1798     REAL\n",
       "2    Canada   36503097  9984670  1529      CAD\n",
       "0   Germany   82521653   357385  3466      EUR\n",
       "3     Italy   60501718   301338  1850      EUR\n",
       "1     Japan  126045000   377835  4938      YEN"
      ]
     },
     "execution_count": 13,
     "metadata": {},
     "output_type": "execute_result"
    }
   ],
   "source": [
    "df = df.sort_values('Name')\n",
    "df"
   ]
  },
  {
   "cell_type": "markdown",
   "id": "4a63b552-830d-4b25-9559-95fd65bb941a",
   "metadata": {},
   "source": [
    "\n",
    "\n",
    "Create a new data frame from the original where the area is changed as follows: all countries with > 1000000 get BIG and <= 1000000 get SMALL in the cell replaced!"
   ]
  },
  {
   "cell_type": "code",
   "execution_count": 14,
   "id": "1e4db535-f933-4eb4-90e1-54f008ef53dd",
   "metadata": {},
   "outputs": [
    {
     "data": {
      "text/html": [
       "<div>\n",
       "<style scoped>\n",
       "    .dataframe tbody tr th:only-of-type {\n",
       "        vertical-align: middle;\n",
       "    }\n",
       "\n",
       "    .dataframe tbody tr th {\n",
       "        vertical-align: top;\n",
       "    }\n",
       "\n",
       "    .dataframe thead th {\n",
       "        text-align: right;\n",
       "    }\n",
       "</style>\n",
       "<table border=\"1\" class=\"dataframe\">\n",
       "  <thead>\n",
       "    <tr style=\"text-align: right;\">\n",
       "      <th></th>\n",
       "      <th>Name</th>\n",
       "      <th>People</th>\n",
       "      <th>Area</th>\n",
       "      <th>Bip</th>\n",
       "      <th>Currency</th>\n",
       "    </tr>\n",
       "  </thead>\n",
       "  <tbody>\n",
       "    <tr>\n",
       "      <th>4</th>\n",
       "      <td>Brazilia</td>\n",
       "      <td>208360000</td>\n",
       "      <td>BIG</td>\n",
       "      <td>1798</td>\n",
       "      <td>REAL</td>\n",
       "    </tr>\n",
       "    <tr>\n",
       "      <th>2</th>\n",
       "      <td>Canada</td>\n",
       "      <td>36503097</td>\n",
       "      <td>BIG</td>\n",
       "      <td>1529</td>\n",
       "      <td>CAD</td>\n",
       "    </tr>\n",
       "    <tr>\n",
       "      <th>0</th>\n",
       "      <td>Germany</td>\n",
       "      <td>82521653</td>\n",
       "      <td>SMALL</td>\n",
       "      <td>3466</td>\n",
       "      <td>EUR</td>\n",
       "    </tr>\n",
       "    <tr>\n",
       "      <th>3</th>\n",
       "      <td>Italy</td>\n",
       "      <td>60501718</td>\n",
       "      <td>SMALL</td>\n",
       "      <td>1850</td>\n",
       "      <td>EUR</td>\n",
       "    </tr>\n",
       "    <tr>\n",
       "      <th>1</th>\n",
       "      <td>Japan</td>\n",
       "      <td>126045000</td>\n",
       "      <td>SMALL</td>\n",
       "      <td>4938</td>\n",
       "      <td>YEN</td>\n",
       "    </tr>\n",
       "  </tbody>\n",
       "</table>\n",
       "</div>"
      ],
      "text/plain": [
       "       Name     People   Area   Bip Currency\n",
       "4  Brazilia  208360000    BIG  1798     REAL\n",
       "2    Canada   36503097    BIG  1529      CAD\n",
       "0   Germany   82521653  SMALL  3466      EUR\n",
       "3     Italy   60501718  SMALL  1850      EUR\n",
       "1     Japan  126045000  SMALL  4938      YEN"
      ]
     },
     "execution_count": 14,
     "metadata": {},
     "output_type": "execute_result"
    }
   ],
   "source": [
    "df_new = df.copy()\n",
    "df_new.loc[df.Area > 1000000, 'Area'] = 'BIG'\n",
    "df_new.loc[df.Area <= 1000000, 'Area'] = 'SMALL'\n",
    "df_new"
   ]
  }
 ],
 "metadata": {
  "kernelspec": {
   "display_name": "Python 3 (ipykernel)",
   "language": "python",
   "name": "python3"
  },
  "language_info": {
   "codemirror_mode": {
    "name": "ipython",
    "version": 3
   },
   "file_extension": ".py",
   "mimetype": "text/x-python",
   "name": "python",
   "nbconvert_exporter": "python",
   "pygments_lexer": "ipython3",
   "version": "3.9.7"
  }
 },
 "nbformat": 4,
 "nbformat_minor": 5
}
