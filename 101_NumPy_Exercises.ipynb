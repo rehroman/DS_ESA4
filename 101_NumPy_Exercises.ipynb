{
 "cells": [
  {
   "cell_type": "markdown",
   "id": "620cc401-b02e-4dec-b06e-c5144c3dddaf",
   "metadata": {},
   "source": [
    "# ESA Exercise in Data Science"
   ]
  },
  {
   "cell_type": "code",
   "execution_count": 9,
   "id": "a0665b62-5dbd-4427-a085-9e7d787cfc69",
   "metadata": {},
   "outputs": [
    {
     "name": "stdout",
     "output_type": "stream",
     "text": [
      "Hello World\n"
     ]
    }
   ],
   "source": [
    "print(\"Hello World\")"
   ]
  },
  {
   "cell_type": "code",
   "execution_count": 10,
   "id": "5f08eaa2-6bf9-40b0-85a9-50457313c252",
   "metadata": {},
   "outputs": [
    {
     "data": {
      "text/plain": [
       "'Hier gibt es nichts zu sehen!'"
      ]
     },
     "execution_count": 10,
     "metadata": {},
     "output_type": "execute_result"
    }
   ],
   "source": [
    "output = \"Hier gibt es nichts zu sehen!\"\n",
    "output"
   ]
  },
  {
   "cell_type": "markdown",
   "id": "3e947947-b05d-48ec-80f3-3c52dedcb712",
   "metadata": {
    "tags": []
   },
   "source": [
    "Q. Import numpy as np and print the version number."
   ]
  },
  {
   "cell_type": "code",
   "execution_count": 11,
   "id": "e7bd75a9-7039-48e8-ab56-18e43380f28c",
   "metadata": {},
   "outputs": [
    {
     "name": "stdout",
     "output_type": "stream",
     "text": [
      "1.20.3\n"
     ]
    }
   ],
   "source": [
    "import numpy as np\n",
    "print(np.__version__)"
   ]
  },
  {
   "cell_type": "code",
   "execution_count": null,
   "id": "762ef4a1-fe6c-4857-b4e7-89b04d504092",
   "metadata": {},
   "outputs": [],
   "source": []
  },
  {
   "cell_type": "code",
   "execution_count": null,
   "id": "816a0b24-3bbc-492d-baf2-3df04839f03f",
   "metadata": {},
   "outputs": [],
   "source": []
  },
  {
   "cell_type": "code",
   "execution_count": null,
   "id": "9fce4905-e0ef-48c6-a42c-4493ddbeed85",
   "metadata": {},
   "outputs": [],
   "source": []
  },
  {
   "cell_type": "code",
   "execution_count": null,
   "id": "e04191cf-2089-4095-8cba-7cd8329a0bd8",
   "metadata": {},
   "outputs": [],
   "source": []
  }
 ],
 "metadata": {
  "kernelspec": {
   "display_name": "Python 3 (ipykernel)",
   "language": "python",
   "name": "python3"
  },
  "language_info": {
   "codemirror_mode": {
    "name": "ipython",
    "version": 3
   },
   "file_extension": ".py",
   "mimetype": "text/x-python",
   "name": "python",
   "nbconvert_exporter": "python",
   "pygments_lexer": "ipython3",
   "version": "3.9.7"
  }
 },
 "nbformat": 4,
 "nbformat_minor": 5
}
